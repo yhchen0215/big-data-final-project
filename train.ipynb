{
 "cells": [
  {
   "cell_type": "code",
   "execution_count": 60,
   "metadata": {},
   "outputs": [],
   "source": [
    "import numpy as np\n",
    "import pandas as pd\n",
    "import matplotlib.pyplot as plt\n",
    "\n",
    "import tensorflow as tf\n",
    "from keras.models import Sequential\n",
    "from keras.layers import Dense, Dropout, LSTM\n",
    "from sklearn.preprocessing import MinMaxScaler"
   ]
  },
  {
   "cell_type": "code",
   "execution_count": 94,
   "metadata": {},
   "outputs": [],
   "source": [
    "INPUT_DAYS = 30 # 用多少天來作為預測資料\n",
    "TRAIN_PCT = 0.85 # 切分成訓練資料的比例\n",
    "PREDICTION_WINDOWS = 14 # 預測日和我們的輸入間隔幾天"
   ]
  },
  {
   "cell_type": "code",
   "execution_count": 95,
   "metadata": {},
   "outputs": [],
   "source": [
    "def maeLoss(predictions, groundtruth):\n",
    "    loss = 0\n",
    "    for prediction, actual in zip(predictions, groundtruth):\n",
    "        loss += abs(prediction-actual)\n",
    "    return loss/len(predictions)"
   ]
  },
  {
   "cell_type": "code",
   "execution_count": 96,
   "metadata": {},
   "outputs": [],
   "source": [
    "def showGraph(model, test_target):\n",
    "    test_predictions = model.predict(test_feature).flatten()\n",
    "    test_results = pd.DataFrame(data={'Train Predictions':test_predictions, 'Actuals':test_target})\n",
    "    print(f'Mean Absolute Error: {maeLoss(test_predictions, test_target)}')\n",
    "    plt.plot(test_results['Train Predictions'])\n",
    "    plt.plot(test_results['Actuals'])\n",
    "    plt.show()"
   ]
  },
  {
   "cell_type": "markdown",
   "metadata": {},
   "source": [
    "### Read Files and Replace Null Value"
   ]
  },
  {
   "cell_type": "code",
   "execution_count": 97,
   "metadata": {},
   "outputs": [],
   "source": [
    "## 新冠資料要2020後才有，禽流感則是2015，所以可能要權衡一下是否要增加欄位而放棄資料筆數，或是有什麼方法可以彌補資料不全的部分\n",
    "FILE_PREFIX = 'data/'\n",
    "FILES = ['72G600_WEATHER.csv', 'EGG_PRICE.csv', 'EGG_PRODUCTION.csv', 'WEED_PRICE.csv'] # 'COVID.csv', 'AVIAN_INFLUENZA.csv'\n",
    "DATAFRAMES = []\n",
    "\n",
    "for FILE in FILES:\n",
    "    df = pd.read_csv(FILE_PREFIX+FILE, encoding='utf-8', index_col=False) # 從檔案讀取\n",
    "    df = df.replace('休市', np.NaN) # 當雞蛋價格為休市視為空值\n",
    "    df.fillna(method='pad', inplace=True) # 用前一筆資料補齊空的資料\n",
    "    DATAFRAMES.append(df)"
   ]
  },
  {
   "cell_type": "markdown",
   "metadata": {},
   "source": [
    "### Merge Data from Different Files"
   ]
  },
  {
   "cell_type": "code",
   "execution_count": 98,
   "metadata": {},
   "outputs": [],
   "source": [
    "df_all = DATAFRAMES[0]\n",
    "for i, DATAFRAME in enumerate(DATAFRAMES):\n",
    "    if i == 0: continue\n",
    "    if 'date' in DATAFRAME: df_all = df_all.merge(DATAFRAME, how='inner', on=['month', 'date']) # 都是日資料的合併\n",
    "    else: df_all = pd.merge(df_all, DATAFRAME, left_on=\"month\", right_on=\"month\") # 日資料及月資料的合併 (目前同一個月就都用一樣的數值)\n",
    "df_all['egg_price'] = pd.to_numeric(df_all['egg_price'])\n",
    "df_all = pd.get_dummies(df_all, columns=[\"lunar_date\"]) # 農曆日期這邊看成categorical feature，所以用one hot encoding的方式"
   ]
  },
  {
   "cell_type": "markdown",
   "metadata": {},
   "source": [
    "### Data Normalization"
   ]
  },
  {
   "cell_type": "code",
   "execution_count": 99,
   "metadata": {},
   "outputs": [],
   "source": [
    "from sklearn.preprocessing import MinMaxScaler\n",
    "columns = df_all.columns.to_list()\n",
    "columns.remove('month') # 移除非訓練欄位的部分\n",
    "columns.remove('date')\n",
    "scaler = MinMaxScaler(feature_range=(0, 1)) # normalization\n",
    "scaled_feature = scaler.fit_transform(df_all[columns])\n",
    "target_value = df_all['egg_price'].to_numpy() # 目標欄位為蛋價\n",
    "target_label = [1 if target_value[i]<target_value[i+PREDICTION_WINDOWS] else 0 for i in range(len(target_value)-PREDICTION_WINDOWS)] # 另外新增和x天後相比的標籤\n",
    "target_label = np.array(target_label)"
   ]
  },
  {
   "cell_type": "code",
   "execution_count": 100,
   "metadata": {},
   "outputs": [
    {
     "name": "stdout",
     "output_type": "stream",
     "text": [
      "Data Count: 4077\n",
      "Feature Count: 381\n"
     ]
    }
   ],
   "source": [
    "DATA_COUNT = len(scaled_feature)\n",
    "FEATURE_COUNT = len(scaled_feature[0])\n",
    "print(f'Data Count: {DATA_COUNT}\\nFeature Count: {FEATURE_COUNT}')"
   ]
  },
  {
   "cell_type": "markdown",
   "metadata": {},
   "source": [
    "### Fully Connected Nueral Network"
   ]
  },
  {
   "cell_type": "code",
   "execution_count": 101,
   "metadata": {},
   "outputs": [],
   "source": [
    "train_feature = scaled_feature[0:int(DATA_COUNT*TRAIN_PCT)]\n",
    "train_target = target_value[INPUT_DAYS:int(DATA_COUNT*TRAIN_PCT)+INPUT_DAYS]\n",
    "test_feature = scaled_feature[int(DATA_COUNT*TRAIN_PCT):len(scaled_feature)-INPUT_DAYS]\n",
    "test_target = target_value[int(DATA_COUNT*TRAIN_PCT)+INPUT_DAYS:]\n",
    "train_target_label = target_label[INPUT_DAYS-PREDICTION_WINDOWS:int(DATA_COUNT*TRAIN_PCT)+INPUT_DAYS-PREDICTION_WINDOWS] # 用在如果要用classification的話\n",
    "test_target_label = target_label[int(DATA_COUNT*TRAIN_PCT)+INPUT_DAYS-PREDICTION_WINDOWS:] # 用在如果要用classification的話"
   ]
  },
  {
   "cell_type": "code",
   "execution_count": 102,
   "metadata": {},
   "outputs": [
    {
     "name": "stdout",
     "output_type": "stream",
     "text": [
      "Epoch 1/50\n",
      "217/217 [==============================] - 1s 940us/step - loss: 15.8166\n",
      "Epoch 2/50\n",
      "217/217 [==============================] - 0s 704us/step - loss: 3.6634\n",
      "Epoch 3/50\n",
      "217/217 [==============================] - 0s 639us/step - loss: 3.3469\n",
      "Epoch 4/50\n",
      "217/217 [==============================] - 0s 870us/step - loss: 3.0396\n",
      "Epoch 5/50\n",
      "217/217 [==============================] - 0s 671us/step - loss: 2.7650\n",
      "Epoch 6/50\n",
      "217/217 [==============================] - 0s 690us/step - loss: 2.5271\n",
      "Epoch 7/50\n",
      "217/217 [==============================] - 0s 713us/step - loss: 2.3639\n",
      "Epoch 8/50\n",
      "217/217 [==============================] - 0s 783us/step - loss: 2.2865\n",
      "Epoch 9/50\n",
      "217/217 [==============================] - 0s 676us/step - loss: 2.2045\n",
      "Epoch 10/50\n",
      "217/217 [==============================] - 0s 653us/step - loss: 2.1669\n",
      "Epoch 11/50\n",
      "217/217 [==============================] - 0s 694us/step - loss: 2.1350\n",
      "Epoch 12/50\n",
      "217/217 [==============================] - 0s 676us/step - loss: 2.1182\n",
      "Epoch 13/50\n",
      "217/217 [==============================] - 0s 685us/step - loss: 2.0941\n",
      "Epoch 14/50\n",
      "217/217 [==============================] - 0s 671us/step - loss: 2.0785\n",
      "Epoch 15/50\n",
      "217/217 [==============================] - 0s 690us/step - loss: 2.0761\n",
      "Epoch 16/50\n",
      "217/217 [==============================] - 0s 704us/step - loss: 2.0568\n",
      "Epoch 17/50\n",
      "217/217 [==============================] - 0s 676us/step - loss: 2.0449\n",
      "Epoch 18/50\n",
      "217/217 [==============================] - 0s 694us/step - loss: 2.0451\n",
      "Epoch 19/50\n",
      "217/217 [==============================] - 0s 685us/step - loss: 2.0210\n",
      "Epoch 20/50\n",
      "217/217 [==============================] - 0s 773us/step - loss: 2.0140\n",
      "Epoch 21/50\n",
      "217/217 [==============================] - 0s 995us/step - loss: 2.0052\n",
      "Epoch 22/50\n",
      "217/217 [==============================] - 0s 806us/step - loss: 2.0007\n",
      "Epoch 23/50\n",
      "217/217 [==============================] - 0s 880us/step - loss: 1.9902\n",
      "Epoch 24/50\n",
      "217/217 [==============================] - 0s 796us/step - loss: 1.9849\n",
      "Epoch 25/50\n",
      "217/217 [==============================] - 0s 870us/step - loss: 1.9765\n",
      "Epoch 26/50\n",
      "217/217 [==============================] - 0s 898us/step - loss: 1.9810\n",
      "Epoch 27/50\n",
      "217/217 [==============================] - 0s 755us/step - loss: 1.9813\n",
      "Epoch 28/50\n",
      "217/217 [==============================] - 0s 815us/step - loss: 1.9593\n",
      "Epoch 29/50\n",
      "217/217 [==============================] - 0s 745us/step - loss: 1.9711\n",
      "Epoch 30/50\n",
      "217/217 [==============================] - 0s 1ms/step - loss: 1.9638\n",
      "Epoch 31/50\n",
      "217/217 [==============================] - 0s 792us/step - loss: 1.9583\n",
      "Epoch 32/50\n",
      "217/217 [==============================] - 0s 764us/step - loss: 1.9575\n",
      "Epoch 33/50\n",
      "217/217 [==============================] - 0s 736us/step - loss: 1.9550\n",
      "Epoch 34/50\n",
      "217/217 [==============================] - 0s 731us/step - loss: 1.9492\n",
      "Epoch 35/50\n",
      "217/217 [==============================] - 0s 736us/step - loss: 1.9603\n",
      "Epoch 36/50\n",
      "217/217 [==============================] - 0s 875us/step - loss: 1.9402\n",
      "Epoch 37/50\n",
      "217/217 [==============================] - 0s 755us/step - loss: 1.9501\n",
      "Epoch 38/50\n",
      "217/217 [==============================] - 0s 745us/step - loss: 1.9428\n",
      "Epoch 39/50\n",
      "217/217 [==============================] - 0s 866us/step - loss: 1.9399\n",
      "Epoch 40/50\n",
      "217/217 [==============================] - 0s 741us/step - loss: 1.9309\n",
      "Epoch 41/50\n",
      "217/217 [==============================] - 0s 731us/step - loss: 1.9298\n",
      "Epoch 42/50\n",
      "217/217 [==============================] - 0s 745us/step - loss: 1.9433\n",
      "Epoch 43/50\n",
      "217/217 [==============================] - 0s 866us/step - loss: 1.9385\n",
      "Epoch 44/50\n",
      "217/217 [==============================] - 0s 750us/step - loss: 1.9316\n",
      "Epoch 45/50\n",
      "217/217 [==============================] - 0s 759us/step - loss: 1.9234\n",
      "Epoch 46/50\n",
      "217/217 [==============================] - 0s 741us/step - loss: 1.9299\n",
      "Epoch 47/50\n",
      "217/217 [==============================] - 0s 838us/step - loss: 1.9317\n",
      "Epoch 48/50\n",
      "217/217 [==============================] - 0s 745us/step - loss: 1.9210\n",
      "Epoch 49/50\n",
      "217/217 [==============================] - 0s 847us/step - loss: 1.9174\n",
      "Epoch 50/50\n",
      "217/217 [==============================] - 0s 736us/step - loss: 1.9208\n",
      "Mean Absolute Error: 2.926595458460018\n"
     ]
    },
    {
     "data": {
      "image/png": "[encoded data removed]",
      "text/plain": [
       "<Figure size 432x288 with 1 Axes>"
      ]
     },
     "metadata": {
      "needs_background": "light"
     },
     "output_type": "display_data"
    }
   ],
   "source": [
    "model = Sequential()\n",
    "model.add(Dense(12, input_dim=(train_feature.shape[1]), activation='relu'))\n",
    "model.add(Dense(8, activation='relu'))\n",
    "model.add(Dense(4, activation='relu'))\n",
    "\n",
    "## predict label ##\n",
    "# model.add(Dense(2, activation='softmax'))\n",
    "# model.compile(optimizer='adam', loss='sparse_categorical_crossentropy', metrics=['accuracy'])\n",
    "# model.fit(train_feature, train_target_label, epochs=50, batch_size=16, validation_data=(test_feature, test_target_label))\n",
    "\n",
    "## predict actual price ##\n",
    "model.add(Dense(1))\n",
    "model.compile(optimizer='adam', loss='mae')\n",
    "model.fit(train_feature, train_target, epochs=50, batch_size=16)\n",
    "showGraph(model, test_target)"
   ]
  },
  {
   "cell_type": "markdown",
   "metadata": {},
   "source": [
    "### LSTM Model"
   ]
  },
  {
   "cell_type": "code",
   "execution_count": 103,
   "metadata": {},
   "outputs": [],
   "source": [
    "feature = []\n",
    "for i in range(len(scaled_feature)-INPUT_DAYS):\n",
    "    feature.append(scaled_feature[i:i+INPUT_DAYS])\n",
    "train_feature = np.array(feature[0:int(len(scaled_feature)*TRAIN_PCT)])\n",
    "test_feature = np.array(feature[int(len(scaled_feature)*TRAIN_PCT):len(scaled_feature)-INPUT_DAYS-PREDICTION_WINDOWS])\n",
    "train_target = target_value[PREDICTION_WINDOWS+INPUT_DAYS:int(DATA_COUNT*TRAIN_PCT)+PREDICTION_WINDOWS+INPUT_DAYS]\n",
    "test_target = target_value[int(DATA_COUNT*TRAIN_PCT)+PREDICTION_WINDOWS+INPUT_DAYS:]\n",
    "train_target_label = target_label[INPUT_DAYS:int(DATA_COUNT*TRAIN_PCT)+INPUT_DAYS] # 用在如果要用classification的話\n",
    "test_target_label = target_label[int(DATA_COUNT*TRAIN_PCT)+INPUT_DAYS:] # 用在如果要用classification的話"
   ]
  },
  {
   "cell_type": "code",
   "execution_count": 104,
   "metadata": {},
   "outputs": [
    {
     "name": "stdout",
     "output_type": "stream",
     "text": [
      "Epoch 1/15\n",
      "109/109 [==============================] - 5s 36ms/step - loss: 7.9465\n",
      "Epoch 2/15\n",
      "109/109 [==============================] - 4s 34ms/step - loss: 4.5892\n",
      "Epoch 3/15\n",
      "109/109 [==============================] - 4s 34ms/step - loss: 4.1666\n",
      "Epoch 4/15\n",
      "109/109 [==============================] - 4s 34ms/step - loss: 4.0407\n",
      "Epoch 5/15\n",
      "109/109 [==============================] - 4s 34ms/step - loss: 3.7818\n",
      "Epoch 6/15\n",
      "109/109 [==============================] - 4s 34ms/step - loss: 3.7032\n",
      "Epoch 7/15\n",
      "109/109 [==============================] - 4s 34ms/step - loss: 3.6066\n",
      "Epoch 8/15\n",
      "109/109 [==============================] - 4s 34ms/step - loss: 3.5468\n",
      "Epoch 9/15\n",
      "109/109 [==============================] - 4s 34ms/step - loss: 3.4974\n",
      "Epoch 10/15\n",
      "109/109 [==============================] - 4s 35ms/step - loss: 3.4448\n",
      "Epoch 11/15\n",
      "109/109 [==============================] - 4s 37ms/step - loss: 3.4930\n",
      "Epoch 12/15\n",
      "109/109 [==============================] - 4s 35ms/step - loss: 3.3414\n",
      "Epoch 13/15\n",
      "109/109 [==============================] - 4s 36ms/step - loss: 3.3110\n",
      "Epoch 14/15\n",
      "109/109 [==============================] - 4s 35ms/step - loss: 3.2540\n",
      "Epoch 15/15\n",
      "109/109 [==============================] - 4s 35ms/step - loss: 3.4005\n",
      "Mean Absolute Error: 1.7465645830396195\n"
     ]
    },
    {
     "data": {
      "image/png": "[encoded data removed]",
      "text/plain": [
       "<Figure size 432x288 with 1 Axes>"
      ]
     },
     "metadata": {
      "needs_background": "light"
     },
     "output_type": "display_data"
    }
   ],
   "source": [
    "model = Sequential()\n",
    "model.add(LSTM(128, input_shape=(train_feature.shape[1:]), activation='relu', return_sequences=True))\n",
    "model.add(Dropout(0.2))\n",
    "model.add(LSTM(128, activation='relu'))\n",
    "model.add(Dropout(0.2))\n",
    "model.add(Dense(32, activation='relu'))\n",
    "model.add(Dropout(0.2))\n",
    "\n",
    "## predict label ##\n",
    "# model.add(Dense(2, activation='softmax'))\n",
    "# optimizer = tf.keras.optimizers.Adam(learning_rate=1e-3, decay=1e-5)\n",
    "# model.compile(optimizer=optimizer, loss='sparse_categorical_crossentropy', metrics=['accuracy'])\n",
    "# model.fit(train_feature, train_target_label, epochs=15, validation_data=(test_feature, test_target_label))\n",
    "\n",
    "## predict actual price ##\n",
    "model.add(Dense(1))\n",
    "optimizer = tf.keras.optimizers.Adam(learning_rate=1e-3, decay=1e-5)\n",
    "model.compile(optimizer=optimizer, loss='mae')\n",
    "model.fit(train_feature, train_target, epochs=15)\n",
    "showGraph(model, test_target)"
   ]
  }
 ],
 "metadata": {
  "interpreter": {
   "hash": "81794d4967e6c3204c66dcd87b604927b115b27c00565d3d43f05ba2f3a2cb0d"
  },
  "kernelspec": {
   "display_name": "Python 3.9.6 64-bit",
   "language": "python",
   "name": "python3"
  },
  "language_info": {
   "codemirror_mode": {
    "name": "ipython",
    "version": 3
   },
   "file_extension": ".py",
   "mimetype": "text/x-python",
   "name": "python",
   "nbconvert_exporter": "python",
   "pygments_lexer": "ipython3",
   "version": "3.9.6"
  },
  "orig_nbformat": 4
 },
 "nbformat": 4,
 "nbformat_minor": 2
}
