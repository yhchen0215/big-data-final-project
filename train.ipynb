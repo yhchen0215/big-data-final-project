{
 "cells": [
  {
   "cell_type": "code",
   "execution_count": 1,
   "metadata": {},
   "outputs": [],
   "source": [
    "import numpy as np\n",
    "import pandas as pd\n",
    "import matplotlib.pyplot as plt\n",
    "\n",
    "import tensorflow as tf\n",
    "from tensorflow.keras.models import Sequential\n",
    "from tensorflow.keras.layers import Dense, Dropout, LSTM, Bidirectional, Embedding\n",
    "from keras_self_attention import SeqSelfAttention, SeqWeightedAttention\n",
    "from sklearn.preprocessing import MinMaxScaler\n",
    "from sklearn.metrics import mean_absolute_percentage_error, mean_absolute_error, mean_squared_error"
   ]
  },
  {
   "cell_type": "code",
   "execution_count": 2,
   "metadata": {},
   "outputs": [],
   "source": [
    "tf.random.set_seed(42)"
   ]
  },
  {
   "cell_type": "code",
   "execution_count": 3,
   "metadata": {},
   "outputs": [],
   "source": [
    "INPUT_DAYS = 10 # 用多少天來作為預測資料\n",
    "TRAIN_PCT = 0.85 # 切分成訓練資料的比例\n",
    "PREDICTION_WINDOWS = 7 # 預測日和我們的輸入間隔幾天"
   ]
  },
  {
   "cell_type": "code",
   "execution_count": 18,
   "metadata": {},
   "outputs": [],
   "source": [
    "def showGraph(model, test_target):\n",
    "    test_predictions = model.predict(test_feature).flatten()\n",
    "    test_results = pd.DataFrame(data={'Test Predictions':test_predictions, 'Actuals':test_target})\n",
    "    print(f'MAPE: {mean_absolute_percentage_error(test_target, test_predictions)}')\n",
    "    print(f'MSE: {mean_squared_error(test_target, test_predictions)}')\n",
    "    print(f'MAE: {mean_absolute_error(test_target, test_predictions)}')\n",
    "    test_results['difference'] = test_results['Actuals'] - test_results['Test Predictions']\n",
    "    plt.plot(test_results['Test Predictions'], label='predictions')\n",
    "    plt.plot(test_results['Actuals'], label='actual')\n",
    "    plt.legend()\n",
    "    plt.xlabel('Time (days)')\n",
    "    plt.ylabel('Egg price (NTD)')\n",
    "    plt.show()"
   ]
  },
  {
   "cell_type": "markdown",
   "metadata": {},
   "source": [
    "### Read Files and Replace Null Value"
   ]
  },
  {
   "cell_type": "code",
   "execution_count": 5,
   "metadata": {},
   "outputs": [],
   "source": [
    "## 新冠資料要2020後才有，禽流感則是2015，所以可能要權衡一下是否要增加欄位而放棄資料筆數，或是有什麼方法可以彌補資料不全的部分\n",
    "FILE_PREFIX = 'data/'\n",
    "FILES = ['72G600_WEATHER.csv', 'EGG_PRICE.csv', 'EGG_PRODUCTION.csv', 'WEED_PRICE.csv'] # 'COVID.csv', 'AVIAN_INFLUENZA.csv'\n",
    "DATAFRAMES = []\n",
    "\n",
    "for FILE in FILES:\n",
    "    df = pd.read_csv(FILE_PREFIX+FILE, encoding='utf-8', index_col=False) # 從檔案讀取\n",
    "    df = df.replace('休市', np.NaN) # 當雞蛋價格為休市視為空值\n",
    "    df.fillna(method='pad', inplace=True) # 用前一筆資料補齊空的資料\n",
    "    DATAFRAMES.append(df)"
   ]
  },
  {
   "cell_type": "markdown",
   "metadata": {},
   "source": [
    "### Merge Data from Different Files"
   ]
  },
  {
   "cell_type": "code",
   "execution_count": 6,
   "metadata": {},
   "outputs": [],
   "source": [
    "df_all = DATAFRAMES[0]\n",
    "for i, DATAFRAME in enumerate(DATAFRAMES):\n",
    "    if i == 0: continue\n",
    "    if 'date' in DATAFRAME: df_all = df_all.merge(DATAFRAME, how='inner', on=['month', 'date']) # 都是日資料的合併\n",
    "    else: df_all = pd.merge(df_all, DATAFRAME, left_on=\"month\", right_on=\"month\") # 日資料及月資料的合併 (目前同一個月就都用一樣的數值)\n",
    "df_all['egg_price'] = pd.to_numeric(df_all['egg_price'])\n",
    "df_all = pd.get_dummies(df_all, columns=[\"lunar_date\"]) # 農曆日期這邊看成categorical feature，所以用one hot encoding的方式"
   ]
  },
  {
   "cell_type": "code",
   "execution_count": 7,
   "metadata": {},
   "outputs": [
    {
     "data": {
      "text/html": [
       "<div>\n",
       "<style scoped>\n",
       "    .dataframe tbody tr th:only-of-type {\n",
       "        vertical-align: middle;\n",
       "    }\n",
       "\n",
       "    .dataframe tbody tr th {\n",
       "        vertical-align: top;\n",
       "    }\n",
       "\n",
       "    .dataframe thead th {\n",
       "        text-align: right;\n",
       "    }\n",
       "</style>\n",
       "<table border=\"1\" class=\"dataframe\">\n",
       "  <thead>\n",
       "    <tr style=\"text-align: right;\">\n",
       "      <th></th>\n",
       "      <th>month</th>\n",
       "      <th>date</th>\n",
       "      <th>avg_temperature</th>\n",
       "      <th>max_temperature</th>\n",
       "      <th>min_temperature</th>\n",
       "      <th>rainfall</th>\n",
       "      <th>sunshine</th>\n",
       "      <th>white_broiler_big</th>\n",
       "      <th>white_broiler_mid</th>\n",
       "      <th>white_broiler_retail</th>\n",
       "      <th>...</th>\n",
       "      <th>lunar_date_1221</th>\n",
       "      <th>lunar_date_1222</th>\n",
       "      <th>lunar_date_1223</th>\n",
       "      <th>lunar_date_1224</th>\n",
       "      <th>lunar_date_1225</th>\n",
       "      <th>lunar_date_1226</th>\n",
       "      <th>lunar_date_1227</th>\n",
       "      <th>lunar_date_1228</th>\n",
       "      <th>lunar_date_1229</th>\n",
       "      <th>lunar_date_1230</th>\n",
       "    </tr>\n",
       "  </thead>\n",
       "  <tbody>\n",
       "    <tr>\n",
       "      <th>0</th>\n",
       "      <td>201101</td>\n",
       "      <td>1</td>\n",
       "      <td>11.6</td>\n",
       "      <td>18.8</td>\n",
       "      <td>6.6</td>\n",
       "      <td>0.0</td>\n",
       "      <td>7.7</td>\n",
       "      <td>26</td>\n",
       "      <td>26.5</td>\n",
       "      <td>28</td>\n",
       "      <td>...</td>\n",
       "      <td>0</td>\n",
       "      <td>0</td>\n",
       "      <td>0</td>\n",
       "      <td>0</td>\n",
       "      <td>0</td>\n",
       "      <td>0</td>\n",
       "      <td>0</td>\n",
       "      <td>0</td>\n",
       "      <td>0</td>\n",
       "      <td>0</td>\n",
       "    </tr>\n",
       "    <tr>\n",
       "      <th>1</th>\n",
       "      <td>201101</td>\n",
       "      <td>2</td>\n",
       "      <td>13.6</td>\n",
       "      <td>20.1</td>\n",
       "      <td>8.1</td>\n",
       "      <td>0.0</td>\n",
       "      <td>7.2</td>\n",
       "      <td>26</td>\n",
       "      <td>26.5</td>\n",
       "      <td>28</td>\n",
       "      <td>...</td>\n",
       "      <td>0</td>\n",
       "      <td>0</td>\n",
       "      <td>0</td>\n",
       "      <td>0</td>\n",
       "      <td>0</td>\n",
       "      <td>0</td>\n",
       "      <td>0</td>\n",
       "      <td>0</td>\n",
       "      <td>0</td>\n",
       "      <td>0</td>\n",
       "    </tr>\n",
       "    <tr>\n",
       "      <th>2</th>\n",
       "      <td>201101</td>\n",
       "      <td>3</td>\n",
       "      <td>13.7</td>\n",
       "      <td>16.5</td>\n",
       "      <td>11.6</td>\n",
       "      <td>0.0</td>\n",
       "      <td>0.8</td>\n",
       "      <td>26</td>\n",
       "      <td>26.5</td>\n",
       "      <td>28</td>\n",
       "      <td>...</td>\n",
       "      <td>0</td>\n",
       "      <td>0</td>\n",
       "      <td>0</td>\n",
       "      <td>0</td>\n",
       "      <td>0</td>\n",
       "      <td>0</td>\n",
       "      <td>0</td>\n",
       "      <td>0</td>\n",
       "      <td>0</td>\n",
       "      <td>0</td>\n",
       "    </tr>\n",
       "    <tr>\n",
       "      <th>3</th>\n",
       "      <td>201101</td>\n",
       "      <td>4</td>\n",
       "      <td>14.5</td>\n",
       "      <td>19.1</td>\n",
       "      <td>12.0</td>\n",
       "      <td>0.0</td>\n",
       "      <td>6.2</td>\n",
       "      <td>26.3</td>\n",
       "      <td>26.8</td>\n",
       "      <td>28.3</td>\n",
       "      <td>...</td>\n",
       "      <td>0</td>\n",
       "      <td>0</td>\n",
       "      <td>0</td>\n",
       "      <td>0</td>\n",
       "      <td>0</td>\n",
       "      <td>0</td>\n",
       "      <td>0</td>\n",
       "      <td>0</td>\n",
       "      <td>0</td>\n",
       "      <td>0</td>\n",
       "    </tr>\n",
       "    <tr>\n",
       "      <th>4</th>\n",
       "      <td>201101</td>\n",
       "      <td>5</td>\n",
       "      <td>16.9</td>\n",
       "      <td>23.3</td>\n",
       "      <td>12.1</td>\n",
       "      <td>3.0</td>\n",
       "      <td>7.4</td>\n",
       "      <td>26.3</td>\n",
       "      <td>26.8</td>\n",
       "      <td>28.3</td>\n",
       "      <td>...</td>\n",
       "      <td>0</td>\n",
       "      <td>0</td>\n",
       "      <td>0</td>\n",
       "      <td>0</td>\n",
       "      <td>0</td>\n",
       "      <td>0</td>\n",
       "      <td>0</td>\n",
       "      <td>0</td>\n",
       "      <td>0</td>\n",
       "      <td>0</td>\n",
       "    </tr>\n",
       "    <tr>\n",
       "      <th>...</th>\n",
       "      <td>...</td>\n",
       "      <td>...</td>\n",
       "      <td>...</td>\n",
       "      <td>...</td>\n",
       "      <td>...</td>\n",
       "      <td>...</td>\n",
       "      <td>...</td>\n",
       "      <td>...</td>\n",
       "      <td>...</td>\n",
       "      <td>...</td>\n",
       "      <td>...</td>\n",
       "      <td>...</td>\n",
       "      <td>...</td>\n",
       "      <td>...</td>\n",
       "      <td>...</td>\n",
       "      <td>...</td>\n",
       "      <td>...</td>\n",
       "      <td>...</td>\n",
       "      <td>...</td>\n",
       "      <td>...</td>\n",
       "      <td>...</td>\n",
       "    </tr>\n",
       "    <tr>\n",
       "      <th>4072</th>\n",
       "      <td>202202</td>\n",
       "      <td>24</td>\n",
       "      <td>14.8</td>\n",
       "      <td>18.3</td>\n",
       "      <td>12.1</td>\n",
       "      <td>0.0</td>\n",
       "      <td>8.5</td>\n",
       "      <td>31.8</td>\n",
       "      <td>31.8</td>\n",
       "      <td>33.3</td>\n",
       "      <td>...</td>\n",
       "      <td>0</td>\n",
       "      <td>0</td>\n",
       "      <td>0</td>\n",
       "      <td>0</td>\n",
       "      <td>0</td>\n",
       "      <td>0</td>\n",
       "      <td>0</td>\n",
       "      <td>0</td>\n",
       "      <td>0</td>\n",
       "      <td>0</td>\n",
       "    </tr>\n",
       "    <tr>\n",
       "      <th>4073</th>\n",
       "      <td>202202</td>\n",
       "      <td>25</td>\n",
       "      <td>16.2</td>\n",
       "      <td>20.8</td>\n",
       "      <td>11.9</td>\n",
       "      <td>0.0</td>\n",
       "      <td>9.0</td>\n",
       "      <td>31.8</td>\n",
       "      <td>31.8</td>\n",
       "      <td>33.3</td>\n",
       "      <td>...</td>\n",
       "      <td>0</td>\n",
       "      <td>0</td>\n",
       "      <td>0</td>\n",
       "      <td>0</td>\n",
       "      <td>0</td>\n",
       "      <td>0</td>\n",
       "      <td>0</td>\n",
       "      <td>0</td>\n",
       "      <td>0</td>\n",
       "      <td>0</td>\n",
       "    </tr>\n",
       "    <tr>\n",
       "      <th>4074</th>\n",
       "      <td>202202</td>\n",
       "      <td>26</td>\n",
       "      <td>17.0</td>\n",
       "      <td>21.6</td>\n",
       "      <td>13.0</td>\n",
       "      <td>0.0</td>\n",
       "      <td>10.1</td>\n",
       "      <td>31.8</td>\n",
       "      <td>31.8</td>\n",
       "      <td>33.3</td>\n",
       "      <td>...</td>\n",
       "      <td>0</td>\n",
       "      <td>0</td>\n",
       "      <td>0</td>\n",
       "      <td>0</td>\n",
       "      <td>0</td>\n",
       "      <td>0</td>\n",
       "      <td>0</td>\n",
       "      <td>0</td>\n",
       "      <td>0</td>\n",
       "      <td>0</td>\n",
       "    </tr>\n",
       "    <tr>\n",
       "      <th>4075</th>\n",
       "      <td>202202</td>\n",
       "      <td>27</td>\n",
       "      <td>18.8</td>\n",
       "      <td>25.3</td>\n",
       "      <td>13.5</td>\n",
       "      <td>0.0</td>\n",
       "      <td>9.4</td>\n",
       "      <td>31.8</td>\n",
       "      <td>31.8</td>\n",
       "      <td>33.3</td>\n",
       "      <td>...</td>\n",
       "      <td>0</td>\n",
       "      <td>0</td>\n",
       "      <td>0</td>\n",
       "      <td>0</td>\n",
       "      <td>0</td>\n",
       "      <td>0</td>\n",
       "      <td>0</td>\n",
       "      <td>0</td>\n",
       "      <td>0</td>\n",
       "      <td>0</td>\n",
       "    </tr>\n",
       "    <tr>\n",
       "      <th>4076</th>\n",
       "      <td>202202</td>\n",
       "      <td>28</td>\n",
       "      <td>19.5</td>\n",
       "      <td>26.3</td>\n",
       "      <td>13.7</td>\n",
       "      <td>0.0</td>\n",
       "      <td>10.1</td>\n",
       "      <td>31.8</td>\n",
       "      <td>31.8</td>\n",
       "      <td>33.3</td>\n",
       "      <td>...</td>\n",
       "      <td>0</td>\n",
       "      <td>0</td>\n",
       "      <td>0</td>\n",
       "      <td>0</td>\n",
       "      <td>0</td>\n",
       "      <td>0</td>\n",
       "      <td>0</td>\n",
       "      <td>0</td>\n",
       "      <td>0</td>\n",
       "      <td>0</td>\n",
       "    </tr>\n",
       "  </tbody>\n",
       "</table>\n",
       "<p>4077 rows × 383 columns</p>\n",
       "</div>"
      ],
      "text/plain": [
       "       month  date  avg_temperature  max_temperature  min_temperature  \\\n",
       "0     201101     1             11.6             18.8              6.6   \n",
       "1     201101     2             13.6             20.1              8.1   \n",
       "2     201101     3             13.7             16.5             11.6   \n",
       "3     201101     4             14.5             19.1             12.0   \n",
       "4     201101     5             16.9             23.3             12.1   \n",
       "...      ...   ...              ...              ...              ...   \n",
       "4072  202202    24             14.8             18.3             12.1   \n",
       "4073  202202    25             16.2             20.8             11.9   \n",
       "4074  202202    26             17.0             21.6             13.0   \n",
       "4075  202202    27             18.8             25.3             13.5   \n",
       "4076  202202    28             19.5             26.3             13.7   \n",
       "\n",
       "      rainfall  sunshine white_broiler_big white_broiler_mid  \\\n",
       "0          0.0       7.7                26              26.5   \n",
       "1          0.0       7.2                26              26.5   \n",
       "2          0.0       0.8                26              26.5   \n",
       "3          0.0       6.2              26.3              26.8   \n",
       "4          3.0       7.4              26.3              26.8   \n",
       "...        ...       ...               ...               ...   \n",
       "4072       0.0       8.5              31.8              31.8   \n",
       "4073       0.0       9.0              31.8              31.8   \n",
       "4074       0.0      10.1              31.8              31.8   \n",
       "4075       0.0       9.4              31.8              31.8   \n",
       "4076       0.0      10.1              31.8              31.8   \n",
       "\n",
       "     white_broiler_retail  ...  lunar_date_1221  lunar_date_1222  \\\n",
       "0                      28  ...                0                0   \n",
       "1                      28  ...                0                0   \n",
       "2                      28  ...                0                0   \n",
       "3                    28.3  ...                0                0   \n",
       "4                    28.3  ...                0                0   \n",
       "...                   ...  ...              ...              ...   \n",
       "4072                 33.3  ...                0                0   \n",
       "4073                 33.3  ...                0                0   \n",
       "4074                 33.3  ...                0                0   \n",
       "4075                 33.3  ...                0                0   \n",
       "4076                 33.3  ...                0                0   \n",
       "\n",
       "      lunar_date_1223  lunar_date_1224  lunar_date_1225  lunar_date_1226  \\\n",
       "0                   0                0                0                0   \n",
       "1                   0                0                0                0   \n",
       "2                   0                0                0                0   \n",
       "3                   0                0                0                0   \n",
       "4                   0                0                0                0   \n",
       "...               ...              ...              ...              ...   \n",
       "4072                0                0                0                0   \n",
       "4073                0                0                0                0   \n",
       "4074                0                0                0                0   \n",
       "4075                0                0                0                0   \n",
       "4076                0                0                0                0   \n",
       "\n",
       "      lunar_date_1227  lunar_date_1228  lunar_date_1229  lunar_date_1230  \n",
       "0                   0                0                0                0  \n",
       "1                   0                0                0                0  \n",
       "2                   0                0                0                0  \n",
       "3                   0                0                0                0  \n",
       "4                   0                0                0                0  \n",
       "...               ...              ...              ...              ...  \n",
       "4072                0                0                0                0  \n",
       "4073                0                0                0                0  \n",
       "4074                0                0                0                0  \n",
       "4075                0                0                0                0  \n",
       "4076                0                0                0                0  \n",
       "\n",
       "[4077 rows x 383 columns]"
      ]
     },
     "execution_count": 7,
     "metadata": {},
     "output_type": "execute_result"
    }
   ],
   "source": [
    "df_all"
   ]
  },
  {
   "cell_type": "markdown",
   "metadata": {},
   "source": [
    "### Data Normalization"
   ]
  },
  {
   "cell_type": "code",
   "execution_count": 8,
   "metadata": {},
   "outputs": [],
   "source": [
    "columns = df_all.columns.to_list()\n",
    "columns.remove('month') # 移除非訓練欄位的部分\n",
    "columns.remove('date')\n",
    "scaler = MinMaxScaler(feature_range=(0, 1)) # normalization\n",
    "scaled_feature = scaler.fit_transform(df_all[columns])\n",
    "target_value = df_all['egg_price'].to_numpy() # 目標欄位為蛋價\n"
   ]
  },
  {
   "cell_type": "code",
   "execution_count": 9,
   "metadata": {},
   "outputs": [
    {
     "name": "stdout",
     "output_type": "stream",
     "text": [
      "Data Count: 4077\n",
      "Feature Count: 381\n"
     ]
    }
   ],
   "source": [
    "DATA_COUNT = len(scaled_feature)\n",
    "FEATURE_COUNT = len(scaled_feature[0])\n",
    "print(f'Data Count: {DATA_COUNT}\\nFeature Count: {FEATURE_COUNT}')"
   ]
  },
  {
   "cell_type": "code",
   "execution_count": 10,
   "metadata": {},
   "outputs": [
    {
     "data": {
      "text/plain": [
       "((4077, 381), (4077,))"
      ]
     },
     "execution_count": 10,
     "metadata": {},
     "output_type": "execute_result"
    }
   ],
   "source": [
    "scaled_feature.shape, target_value.shape"
   ]
  },
  {
   "cell_type": "code",
   "execution_count": 11,
   "metadata": {},
   "outputs": [
    {
     "name": "stderr",
     "output_type": "stream",
     "text": [
      "2022-05-18 21:43:59.245944: I tensorflow/stream_executor/platform/default/dso_loader.cc:44] Successfully opened dynamic library libcuda.so.1\n",
      "2022-05-18 21:43:59.270752: I tensorflow/stream_executor/cuda/cuda_gpu_executor.cc:981] successful NUMA node read from SysFS had negative value (-1), but there must be at least one NUMA node, so returning NUMA node zero\n",
      "2022-05-18 21:43:59.271036: I tensorflow/core/common_runtime/gpu/gpu_device.cc:1561] Found device 0 with properties: \n",
      "pciBusID: 0000:01:00.0 name: GeForce RTX 2070 computeCapability: 7.5\n",
      "coreClock: 1.62GHz coreCount: 36 deviceMemorySize: 7.79GiB deviceMemoryBandwidth: 417.29GiB/s\n",
      "2022-05-18 21:43:59.271190: I tensorflow/stream_executor/platform/default/dso_loader.cc:44] Successfully opened dynamic library libcudart.so.10.1\n",
      "2022-05-18 21:43:59.272371: I tensorflow/stream_executor/platform/default/dso_loader.cc:44] Successfully opened dynamic library libcublas.so.10\n",
      "2022-05-18 21:43:59.273472: I tensorflow/stream_executor/platform/default/dso_loader.cc:44] Successfully opened dynamic library libcufft.so.10\n",
      "2022-05-18 21:43:59.273719: I tensorflow/stream_executor/platform/default/dso_loader.cc:44] Successfully opened dynamic library libcurand.so.10\n",
      "2022-05-18 21:43:59.274969: I tensorflow/stream_executor/platform/default/dso_loader.cc:44] Successfully opened dynamic library libcusolver.so.10\n",
      "2022-05-18 21:43:59.275511: I tensorflow/stream_executor/platform/default/dso_loader.cc:44] Successfully opened dynamic library libcusparse.so.10\n",
      "2022-05-18 21:43:59.278278: I tensorflow/stream_executor/platform/default/dso_loader.cc:44] Successfully opened dynamic library libcudnn.so.7\n",
      "2022-05-18 21:43:59.278448: I tensorflow/stream_executor/cuda/cuda_gpu_executor.cc:981] successful NUMA node read from SysFS had negative value (-1), but there must be at least one NUMA node, so returning NUMA node zero\n",
      "2022-05-18 21:43:59.278962: I tensorflow/stream_executor/cuda/cuda_gpu_executor.cc:981] successful NUMA node read from SysFS had negative value (-1), but there must be at least one NUMA node, so returning NUMA node zero\n",
      "2022-05-18 21:43:59.279227: I tensorflow/core/common_runtime/gpu/gpu_device.cc:1703] Adding visible gpu devices: 0\n"
     ]
    }
   ],
   "source": [
    "# Avoid tensorflow use full memory\n",
    "physical_devices = tf.config.experimental.list_physical_devices('GPU')\n",
    "try:\n",
    "    tf.config.experimental.set_memory_growth(physical_devices[0], True)\n",
    "except:\n",
    "    # Invalid device or cannot modify virtual devices once initialized.\n",
    "    pass"
   ]
  },
  {
   "cell_type": "markdown",
   "metadata": {},
   "source": [
    "DNN"
   ]
  },
  {
   "cell_type": "code",
   "execution_count": 12,
   "metadata": {},
   "outputs": [],
   "source": [
    "train_feature = scaled_feature[0:int(DATA_COUNT*TRAIN_PCT)]\n",
    "train_target = target_value[INPUT_DAYS:int(DATA_COUNT*TRAIN_PCT)+INPUT_DAYS]\n",
    "test_feature = scaled_feature[int(DATA_COUNT*TRAIN_PCT):len(scaled_feature)-INPUT_DAYS]\n",
    "test_target = target_value[int(DATA_COUNT*TRAIN_PCT)+INPUT_DAYS:]"
   ]
  },
  {
   "cell_type": "code",
   "execution_count": 13,
   "metadata": {},
   "outputs": [
    {
     "data": {
      "text/plain": [
       "(10, 3475)"
      ]
     },
     "execution_count": 13,
     "metadata": {},
     "output_type": "execute_result"
    }
   ],
   "source": [
    "INPUT_DAYS, int(DATA_COUNT*TRAIN_PCT)+INPUT_DAYS"
   ]
  },
  {
   "cell_type": "code",
   "execution_count": 14,
   "metadata": {},
   "outputs": [
    {
     "data": {
      "text/plain": [
       "((3465, 381), (3465,), (602, 381), (602,))"
      ]
     },
     "execution_count": 14,
     "metadata": {},
     "output_type": "execute_result"
    }
   ],
   "source": [
    "train_feature.shape, train_target.shape, test_feature.shape, test_target.shape"
   ]
  },
  {
   "cell_type": "code",
   "execution_count": 15,
   "metadata": {},
   "outputs": [
    {
     "name": "stderr",
     "output_type": "stream",
     "text": [
      "2022-05-18 21:28:26.795423: I tensorflow/core/platform/cpu_feature_guard.cc:143] Your CPU supports instructions that this TensorFlow binary was not compiled to use: SSE4.1 SSE4.2 AVX AVX2 FMA\n",
      "2022-05-18 21:28:26.816101: I tensorflow/core/platform/profile_utils/cpu_utils.cc:102] CPU Frequency: 3199980000 Hz\n",
      "2022-05-18 21:28:26.816468: I tensorflow/compiler/xla/service/service.cc:168] XLA service 0x559f13d1a2a0 initialized for platform Host (this does not guarantee that XLA will be used). Devices:\n",
      "2022-05-18 21:28:26.816484: I tensorflow/compiler/xla/service/service.cc:176]   StreamExecutor device (0): Host, Default Version\n",
      "2022-05-18 21:28:26.816674: I tensorflow/stream_executor/cuda/cuda_gpu_executor.cc:981] successful NUMA node read from SysFS had negative value (-1), but there must be at least one NUMA node, so returning NUMA node zero\n",
      "2022-05-18 21:28:26.816951: I tensorflow/core/common_runtime/gpu/gpu_device.cc:1561] Found device 0 with properties: \n",
      "pciBusID: 0000:01:00.0 name: GeForce RTX 2070 computeCapability: 7.5\n",
      "coreClock: 1.62GHz coreCount: 36 deviceMemorySize: 7.79GiB deviceMemoryBandwidth: 417.29GiB/s\n",
      "2022-05-18 21:28:26.816996: I tensorflow/stream_executor/platform/default/dso_loader.cc:44] Successfully opened dynamic library libcudart.so.10.1\n",
      "2022-05-18 21:28:26.817009: I tensorflow/stream_executor/platform/default/dso_loader.cc:44] Successfully opened dynamic library libcublas.so.10\n",
      "2022-05-18 21:28:26.817020: I tensorflow/stream_executor/platform/default/dso_loader.cc:44] Successfully opened dynamic library libcufft.so.10\n",
      "2022-05-18 21:28:26.817031: I tensorflow/stream_executor/platform/default/dso_loader.cc:44] Successfully opened dynamic library libcurand.so.10\n",
      "2022-05-18 21:28:26.817041: I tensorflow/stream_executor/platform/default/dso_loader.cc:44] Successfully opened dynamic library libcusolver.so.10\n",
      "2022-05-18 21:28:26.817052: I tensorflow/stream_executor/platform/default/dso_loader.cc:44] Successfully opened dynamic library libcusparse.so.10\n",
      "2022-05-18 21:28:26.817063: I tensorflow/stream_executor/platform/default/dso_loader.cc:44] Successfully opened dynamic library libcudnn.so.7\n",
      "2022-05-18 21:28:26.817128: I tensorflow/stream_executor/cuda/cuda_gpu_executor.cc:981] successful NUMA node read from SysFS had negative value (-1), but there must be at least one NUMA node, so returning NUMA node zero\n",
      "2022-05-18 21:28:26.817420: I tensorflow/stream_executor/cuda/cuda_gpu_executor.cc:981] successful NUMA node read from SysFS had negative value (-1), but there must be at least one NUMA node, so returning NUMA node zero\n",
      "2022-05-18 21:28:26.817665: I tensorflow/core/common_runtime/gpu/gpu_device.cc:1703] Adding visible gpu devices: 0\n",
      "2022-05-18 21:28:26.817696: I tensorflow/stream_executor/platform/default/dso_loader.cc:44] Successfully opened dynamic library libcudart.so.10.1\n",
      "2022-05-18 21:28:26.876087: I tensorflow/core/common_runtime/gpu/gpu_device.cc:1102] Device interconnect StreamExecutor with strength 1 edge matrix:\n",
      "2022-05-18 21:28:26.876104: I tensorflow/core/common_runtime/gpu/gpu_device.cc:1108]      0 \n",
      "2022-05-18 21:28:26.876109: I tensorflow/core/common_runtime/gpu/gpu_device.cc:1121] 0:   N \n",
      "2022-05-18 21:28:26.876248: I tensorflow/stream_executor/cuda/cuda_gpu_executor.cc:981] successful NUMA node read from SysFS had negative value (-1), but there must be at least one NUMA node, so returning NUMA node zero\n",
      "2022-05-18 21:28:26.876577: I tensorflow/stream_executor/cuda/cuda_gpu_executor.cc:981] successful NUMA node read from SysFS had negative value (-1), but there must be at least one NUMA node, so returning NUMA node zero\n",
      "2022-05-18 21:28:26.876895: I tensorflow/stream_executor/cuda/cuda_gpu_executor.cc:981] successful NUMA node read from SysFS had negative value (-1), but there must be at least one NUMA node, so returning NUMA node zero\n",
      "2022-05-18 21:28:26.877181: I tensorflow/core/common_runtime/gpu/gpu_device.cc:1247] Created TensorFlow device (/job:localhost/replica:0/task:0/device:GPU:0 with 4780 MB memory) -> physical GPU (device: 0, name: GeForce RTX 2070, pci bus id: 0000:01:00.0, compute capability: 7.5)\n",
      "2022-05-18 21:28:26.878298: I tensorflow/compiler/xla/service/service.cc:168] XLA service 0x559f189214a0 initialized for platform CUDA (this does not guarantee that XLA will be used). Devices:\n",
      "2022-05-18 21:28:26.878308: I tensorflow/compiler/xla/service/service.cc:176]   StreamExecutor device (0): GeForce RTX 2070, Compute Capability 7.5\n"
     ]
    },
    {
     "name": "stdout",
     "output_type": "stream",
     "text": [
      "Epoch 1/50\n",
      "  1/217 [..............................] - ETA: 0s - loss: 26.5319"
     ]
    },
    {
     "name": "stderr",
     "output_type": "stream",
     "text": [
      "2022-05-18 21:28:27.455594: I tensorflow/stream_executor/platform/default/dso_loader.cc:44] Successfully opened dynamic library libcublas.so.10\n"
     ]
    },
    {
     "name": "stdout",
     "output_type": "stream",
     "text": [
      "217/217 [==============================] - 0s 1ms/step - loss: 17.6981\n",
      "Epoch 2/50\n",
      "217/217 [==============================] - 0s 879us/step - loss: 3.6122\n",
      "Epoch 3/50\n",
      "217/217 [==============================] - 0s 820us/step - loss: 3.2316\n",
      "Epoch 4/50\n",
      "217/217 [==============================] - 0s 963us/step - loss: 2.8908\n",
      "Epoch 5/50\n",
      "217/217 [==============================] - 0s 1ms/step - loss: 2.5697\n",
      "Epoch 6/50\n",
      "217/217 [==============================] - 0s 959us/step - loss: 2.2756\n",
      "Epoch 7/50\n",
      "217/217 [==============================] - 0s 922us/step - loss: 2.0257\n",
      "Epoch 8/50\n",
      "217/217 [==============================] - 0s 927us/step - loss: 1.8519\n",
      "Epoch 9/50\n",
      "217/217 [==============================] - 0s 887us/step - loss: 1.7144\n",
      "Epoch 10/50\n",
      "217/217 [==============================] - 0s 947us/step - loss: 1.6293\n",
      "Epoch 11/50\n",
      "217/217 [==============================] - 0s 1ms/step - loss: 1.5779\n",
      "Epoch 12/50\n",
      "217/217 [==============================] - 0s 1ms/step - loss: 1.5436\n",
      "Epoch 13/50\n",
      "217/217 [==============================] - 0s 967us/step - loss: 1.5223\n",
      "Epoch 14/50\n",
      "217/217 [==============================] - 0s 905us/step - loss: 1.5159\n",
      "Epoch 15/50\n",
      "217/217 [==============================] - 0s 915us/step - loss: 1.5045\n",
      "Epoch 16/50\n",
      "217/217 [==============================] - 0s 884us/step - loss: 1.4906\n",
      "Epoch 17/50\n",
      "217/217 [==============================] - 0s 886us/step - loss: 1.4893\n",
      "Epoch 18/50\n",
      "217/217 [==============================] - 0s 871us/step - loss: 1.4905\n",
      "Epoch 19/50\n",
      "217/217 [==============================] - 0s 877us/step - loss: 1.4763\n",
      "Epoch 20/50\n",
      "217/217 [==============================] - 0s 842us/step - loss: 1.4704\n",
      "Epoch 21/50\n",
      "217/217 [==============================] - 0s 857us/step - loss: 1.4636\n",
      "Epoch 22/50\n",
      "217/217 [==============================] - 0s 829us/step - loss: 1.4568\n",
      "Epoch 23/50\n",
      "217/217 [==============================] - 0s 803us/step - loss: 1.4543\n",
      "Epoch 24/50\n",
      "217/217 [==============================] - 0s 832us/step - loss: 1.4481\n",
      "Epoch 25/50\n",
      "217/217 [==============================] - 0s 825us/step - loss: 1.4564\n",
      "Epoch 26/50\n",
      "217/217 [==============================] - 0s 826us/step - loss: 1.4473\n",
      "Epoch 27/50\n",
      "217/217 [==============================] - 0s 882us/step - loss: 1.4390\n",
      "Epoch 28/50\n",
      "217/217 [==============================] - 0s 1ms/step - loss: 1.4439\n",
      "Epoch 29/50\n",
      "217/217 [==============================] - 0s 859us/step - loss: 1.4363\n",
      "Epoch 30/50\n",
      "217/217 [==============================] - 0s 924us/step - loss: 1.4379\n",
      "Epoch 31/50\n",
      "217/217 [==============================] - 0s 849us/step - loss: 1.4326\n",
      "Epoch 32/50\n",
      "217/217 [==============================] - 0s 801us/step - loss: 1.4418\n",
      "Epoch 33/50\n",
      "217/217 [==============================] - 0s 870us/step - loss: 1.4343\n",
      "Epoch 34/50\n",
      "217/217 [==============================] - 0s 839us/step - loss: 1.4242\n",
      "Epoch 35/50\n",
      "217/217 [==============================] - 0s 901us/step - loss: 1.4232\n",
      "Epoch 36/50\n",
      "217/217 [==============================] - 0s 1ms/step - loss: 1.4184\n",
      "Epoch 37/50\n",
      "217/217 [==============================] - 0s 882us/step - loss: 1.4154\n",
      "Epoch 38/50\n",
      "217/217 [==============================] - 0s 880us/step - loss: 1.4190\n",
      "Epoch 39/50\n",
      "217/217 [==============================] - 0s 871us/step - loss: 1.4103\n",
      "Epoch 40/50\n",
      "217/217 [==============================] - 0s 878us/step - loss: 1.4080\n",
      "Epoch 41/50\n",
      "217/217 [==============================] - 0s 849us/step - loss: 1.4117\n",
      "Epoch 42/50\n",
      "217/217 [==============================] - 0s 813us/step - loss: 1.4143\n",
      "Epoch 43/50\n",
      "217/217 [==============================] - 0s 860us/step - loss: 1.4032\n",
      "Epoch 44/50\n",
      "217/217 [==============================] - 0s 846us/step - loss: 1.4064\n",
      "Epoch 45/50\n",
      "217/217 [==============================] - 0s 828us/step - loss: 1.4010\n",
      "Epoch 46/50\n",
      "217/217 [==============================] - 0s 821us/step - loss: 1.4056\n",
      "Epoch 47/50\n",
      "217/217 [==============================] - 0s 801us/step - loss: 1.3992\n",
      "Epoch 48/50\n",
      "217/217 [==============================] - 0s 898us/step - loss: 1.3984\n",
      "Epoch 49/50\n",
      "217/217 [==============================] - 0s 877us/step - loss: 1.3943\n",
      "Epoch 50/50\n",
      "217/217 [==============================] - 0s 849us/step - loss: 1.3993\n",
      "MAPE: 0.04902922064311691\n",
      "MSE: 2.8803078607483457\n",
      "MAE: 1.3405853125740128\n"
     ]
    },
    {
     "data": {
      "image/png": "[encoded data removed]",
      "text/plain": [
       "<Figure size 432x288 with 1 Axes>"
      ]
     },
     "metadata": {
      "needs_background": "light"
     },
     "output_type": "display_data"
    }
   ],
   "source": [
    "model = Sequential()\n",
    "model.add(Dense(12, input_dim=(train_feature.shape[1]), activation='relu'))\n",
    "model.add(Dense(8, activation='relu'))\n",
    "model.add(Dense(4, activation='relu'))\n",
    "\n",
    "## predict label ##\n",
    "# model.add(Dense(2, activation='softmax'))\n",
    "# model.compile(optimizer='adam', loss='sparse_categorical_crossentropy', metrics=['accuracy'])\n",
    "# model.fit(train_feature, train_target_label, epochs=50, batch_size=16, validation_data=(test_feature, test_target_label))\n",
    "\n",
    "## predict actual price ##\n",
    "model.add(Dense(1))\n",
    "model.compile(optimizer='adam', loss='mae')\n",
    "model.fit(train_feature, train_target, epochs=50, batch_size=16)\n",
    "showGraph(model, test_target)"
   ]
  },
  {
   "cell_type": "markdown",
   "metadata": {},
   "source": [
    "### LSTM Model"
   ]
  },
  {
   "cell_type": "code",
   "execution_count": 12,
   "metadata": {},
   "outputs": [],
   "source": [
    "feature = []\n",
    "for i in range(len(scaled_feature)-INPUT_DAYS):\n",
    "    feature.append(scaled_feature[i:i+INPUT_DAYS])\n",
    "train_feature = np.array(feature[0:int(len(scaled_feature)*TRAIN_PCT)])\n",
    "test_feature = np.array(feature[int(len(scaled_feature)*TRAIN_PCT):len(scaled_feature)-INPUT_DAYS-PREDICTION_WINDOWS])\n",
    "train_target = target_value[PREDICTION_WINDOWS+INPUT_DAYS:int(DATA_COUNT*TRAIN_PCT)+PREDICTION_WINDOWS+INPUT_DAYS]\n",
    "test_target = target_value[int(DATA_COUNT*TRAIN_PCT)+PREDICTION_WINDOWS+INPUT_DAYS:]\n",
    "\n"
   ]
  },
  {
   "cell_type": "code",
   "execution_count": 13,
   "metadata": {},
   "outputs": [
    {
     "data": {
      "text/plain": [
       "((3465, 10, 381), (3465,), (595, 10, 381), (595,))"
      ]
     },
     "execution_count": 13,
     "metadata": {},
     "output_type": "execute_result"
    }
   ],
   "source": [
    "train_feature.shape, train_target.shape, test_feature.shape, test_target.shape"
   ]
  },
  {
   "cell_type": "code",
   "execution_count": 27,
   "metadata": {},
   "outputs": [
    {
     "name": "stdout",
     "output_type": "stream",
     "text": [
      "WARNING:tensorflow:Layer lstm_7 will not use cuDNN kernel since it doesn't meet the cuDNN kernel criteria. It will use generic GPU kernel as fallback when running on GPU\n",
      "WARNING:tensorflow:Layer lstm_7 will not use cuDNN kernel since it doesn't meet the cuDNN kernel criteria. It will use generic GPU kernel as fallback when running on GPU\n",
      "WARNING:tensorflow:Layer lstm_7 will not use cuDNN kernel since it doesn't meet the cuDNN kernel criteria. It will use generic GPU kernel as fallback when running on GPU\n",
      "Epoch 1/20\n",
      "109/109 [==============================] - 2s 15ms/step - loss: 6.6173\n",
      "Epoch 2/20\n",
      "109/109 [==============================] - 2s 14ms/step - loss: 1.8934\n",
      "Epoch 3/20\n",
      "109/109 [==============================] - 2s 14ms/step - loss: 1.6547\n",
      "Epoch 4/20\n",
      "109/109 [==============================] - 2s 14ms/step - loss: 1.5315\n",
      "Epoch 5/20\n",
      "109/109 [==============================] - 2s 14ms/step - loss: 1.4391\n",
      "Epoch 6/20\n",
      "109/109 [==============================] - 2s 14ms/step - loss: 1.4380\n",
      "Epoch 7/20\n",
      "109/109 [==============================] - 2s 14ms/step - loss: 1.4471\n",
      "Epoch 8/20\n",
      "109/109 [==============================] - 2s 14ms/step - loss: 1.3228\n",
      "Epoch 9/20\n",
      "109/109 [==============================] - 2s 14ms/step - loss: 1.3146\n",
      "Epoch 10/20\n",
      "109/109 [==============================] - 2s 14ms/step - loss: 1.3125\n",
      "Epoch 11/20\n",
      "109/109 [==============================] - 2s 14ms/step - loss: 1.1754\n",
      "Epoch 12/20\n",
      "109/109 [==============================] - 2s 16ms/step - loss: 1.1538\n",
      "Epoch 13/20\n",
      "109/109 [==============================] - 2s 15ms/step - loss: 1.1004\n",
      "Epoch 14/20\n",
      "109/109 [==============================] - 2s 14ms/step - loss: 1.0746\n",
      "Epoch 15/20\n",
      "109/109 [==============================] - 2s 15ms/step - loss: 1.0816\n",
      "Epoch 16/20\n",
      "109/109 [==============================] - 2s 14ms/step - loss: 1.0890\n",
      "Epoch 17/20\n",
      "109/109 [==============================] - 2s 15ms/step - loss: 0.9711\n",
      "Epoch 18/20\n",
      "109/109 [==============================] - 2s 15ms/step - loss: 1.0130\n",
      "Epoch 19/20\n",
      "109/109 [==============================] - 2s 15ms/step - loss: 0.9267\n",
      "Epoch 20/20\n",
      "109/109 [==============================] - 2s 14ms/step - loss: 0.9113\n",
      "MAPE: 0.09282011864846593\n",
      "MSE: 11.290207077834978\n",
      "MAE: 2.7202443547609474\n"
     ]
    },
    {
     "data": {
      "image/png": "[encoded data removed]",
      "text/plain": [
       "<Figure size 432x288 with 1 Axes>"
      ]
     },
     "metadata": {
      "needs_background": "light"
     },
     "output_type": "display_data"
    }
   ],
   "source": [
    "model = Sequential()\n",
    "model.add(Dense(128, input_shape=(train_feature.shape[1:])))\n",
    "model.add(Bidirectional(LSTM(128, input_shape=(train_feature.shape[1:]), activation='relu', return_sequences=True)))\n",
    "model.add(SeqWeightedAttention())\n",
    "# model.add(tf.keras.layers.MaxPooling1D(\n",
    "#     pool_size=INPUT_DAYS, strides=None, data_format='channels_first'\n",
    "# ))\n",
    "# model.add(Dropout(0.2))\n",
    "# model.add(LSTM(128, activation='relu'))\n",
    "# model.add(Dropout(0.2))\n",
    "model.add(Dense(32, activation='relu'))\n",
    "# model.add(Dropout(0.2))\n",
    "\n",
    "## predict actual price ##\n",
    "model.add(Dense(1))\n",
    "optimizer = tf.keras.optimizers.Adam(learning_rate=1e-3, decay=1e-5)\n",
    "model.compile(optimizer=optimizer, loss='mae')\n",
    "model.fit(train_feature, train_target, epochs=20)\n",
    "showGraph(model, test_target)"
   ]
  },
  {
   "cell_type": "code",
   "execution_count": 24,
   "metadata": {},
   "outputs": [
    {
     "name": "stdout",
     "output_type": "stream",
     "text": [
      "Model: \"sequential_6\"\n",
      "_________________________________________________________________\n",
      "Layer (type)                 Output Shape              Param #   \n",
      "=================================================================\n",
      "dense_18 (Dense)             (None, 10, 128)           48896     \n",
      "_________________________________________________________________\n",
      "bidirectional_6 (Bidirection (None, 10, 256)           263168    \n",
      "_________________________________________________________________\n",
      "seq_weighted_attention_1 (Se (None, 256)               257       \n",
      "_________________________________________________________________\n",
      "dense_19 (Dense)             (None, 32)                8224      \n",
      "_________________________________________________________________\n",
      "dense_20 (Dense)             (None, 1)                 33        \n",
      "=================================================================\n",
      "Total params: 320,578\n",
      "Trainable params: 320,578\n",
      "Non-trainable params: 0\n",
      "_________________________________________________________________\n"
     ]
    }
   ],
   "source": [
    "model.summary()"
   ]
  },
  {
   "cell_type": "code",
   "execution_count": null,
   "metadata": {},
   "outputs": [],
   "source": []
  },
  {
   "cell_type": "markdown",
   "metadata": {},
   "source": [
    "Bi-GRU"
   ]
  },
  {
   "cell_type": "code",
   "execution_count": 26,
   "metadata": {},
   "outputs": [
    {
     "name": "stdout",
     "output_type": "stream",
     "text": [
      "WARNING:tensorflow:Layer gru_1 will not use cuDNN kernel since it doesn't meet the cuDNN kernel criteria. It will use generic GPU kernel as fallback when running on GPU\n",
      "WARNING:tensorflow:Layer gru_1 will not use cuDNN kernel since it doesn't meet the cuDNN kernel criteria. It will use generic GPU kernel as fallback when running on GPU\n",
      "WARNING:tensorflow:Layer gru_1 will not use cuDNN kernel since it doesn't meet the cuDNN kernel criteria. It will use generic GPU kernel as fallback when running on GPU\n",
      "Epoch 1/20\n",
      "109/109 [==============================] - 2s 19ms/step - loss: 6.6712\n",
      "Epoch 2/20\n",
      "109/109 [==============================] - 2s 18ms/step - loss: 1.9549\n",
      "Epoch 3/20\n",
      "109/109 [==============================] - 2s 17ms/step - loss: 1.6948\n",
      "Epoch 4/20\n",
      "109/109 [==============================] - 2s 18ms/step - loss: 1.5932\n",
      "Epoch 5/20\n",
      "109/109 [==============================] - 2s 18ms/step - loss: 1.4505\n",
      "Epoch 6/20\n",
      "109/109 [==============================] - 2s 17ms/step - loss: 1.4151\n",
      "Epoch 7/20\n",
      "109/109 [==============================] - 2s 17ms/step - loss: 1.4174\n",
      "Epoch 8/20\n",
      "109/109 [==============================] - 2s 17ms/step - loss: 1.4219\n",
      "Epoch 9/20\n",
      "109/109 [==============================] - 2s 19ms/step - loss: 1.3830\n",
      "Epoch 10/20\n",
      "109/109 [==============================] - 2s 19ms/step - loss: 1.3284\n",
      "Epoch 11/20\n",
      "109/109 [==============================] - 2s 18ms/step - loss: 1.3517\n",
      "Epoch 12/20\n",
      "109/109 [==============================] - 2s 18ms/step - loss: 1.3433\n",
      "Epoch 13/20\n",
      "109/109 [==============================] - 2s 18ms/step - loss: 1.3007\n",
      "Epoch 14/20\n",
      "109/109 [==============================] - 2s 18ms/step - loss: 1.3677\n",
      "Epoch 15/20\n",
      "109/109 [==============================] - 2s 18ms/step - loss: 1.2860\n",
      "Epoch 16/20\n",
      "109/109 [==============================] - 2s 19ms/step - loss: 1.3072\n",
      "Epoch 17/20\n",
      "109/109 [==============================] - 2s 18ms/step - loss: 1.2816\n",
      "Epoch 18/20\n",
      "109/109 [==============================] - 2s 18ms/step - loss: 1.2288\n",
      "Epoch 19/20\n",
      "109/109 [==============================] - 2s 18ms/step - loss: 1.2081\n",
      "Epoch 20/20\n",
      "109/109 [==============================] - 2s 18ms/step - loss: 1.2437\n",
      "MAPE: 0.07487484276366561\n",
      "MSE: 7.433147571750679\n",
      "MAE: 2.1924242356244257\n"
     ]
    },
    {
     "data": {
      "image/png": "[encoded data removed]",
      "text/plain": [
       "<Figure size 432x288 with 1 Axes>"
      ]
     },
     "metadata": {
      "needs_background": "light"
     },
     "output_type": "display_data"
    }
   ],
   "source": [
    "model = Sequential()\n",
    "model.add(Dense(128, input_shape=(train_feature.shape[1:])))\n",
    "model.add(Bidirectional(tf.keras.layers.GRU(128, input_shape=(train_feature.shape[1:]), activation='relu', return_sequences=True)))\n",
    "model.add(SeqWeightedAttention())\n",
    "model.add(Dense(32, activation='relu'))\n",
    "\n",
    "## predict actual price ##\n",
    "model.add(Dense(1))\n",
    "optimizer = tf.keras.optimizers.Adam(learning_rate=1e-3, decay=1e-5)\n",
    "model.compile(optimizer=optimizer, loss='mae')\n",
    "model.fit(train_feature, train_target, epochs=20)\n",
    "showGraph(model, test_target)"
   ]
  },
  {
   "cell_type": "code",
   "execution_count": 21,
   "metadata": {},
   "outputs": [],
   "source": [
    "model.summary()"
   ]
  },
  {
   "cell_type": "code",
   "execution_count": null,
   "metadata": {},
   "outputs": [],
   "source": []
  }
 ],
 "metadata": {
  "interpreter": {
   "hash": "81794d4967e6c3204c66dcd87b604927b115b27c00565d3d43f05ba2f3a2cb0d"
  },
  "kernelspec": {
   "display_name": "Python 3.9.6 64-bit",
   "language": "python",
   "name": "python3"
  },
  "language_info": {
   "codemirror_mode": {
    "name": "ipython",
    "version": 3
   },
   "file_extension": ".py",
   "mimetype": "text/x-python",
   "name": "python",
   "nbconvert_exporter": "python",
   "pygments_lexer": "ipython3",
   "version": "3.8.13"
  },
  "orig_nbformat": 4
 },
 "nbformat": 4,
 "nbformat_minor": 2
}
