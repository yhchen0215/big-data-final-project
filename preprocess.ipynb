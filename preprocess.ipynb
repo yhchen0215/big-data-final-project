{
 "cells": [
  {
   "cell_type": "code",
   "execution_count": null,
   "metadata": {},
   "outputs": [],
   "source": [
    "from pyspark.sql import SparkSession\n",
    "from pyspark.sql.functions import col, split, lpad, concat, expr\n",
    "spark = SparkSession.builder.appName('Egg Price Estimation').getOrCreate()"
   ]
  },
  {
   "cell_type": "code",
   "execution_count": null,
   "metadata": {},
   "outputs": [],
   "source": [
    "## Weather Data\n",
    "df = spark.read.csv('data/train/72G600_weather_raw.csv', header=True)\n",
    "df = df.withColumnRenamed(\"平均氣溫(℃)\", \"avg_temperature\")\n",
    "df = df.withColumnRenamed(\"最高氣溫(℃)\", \"max_temperature\")\n",
    "df = df.withColumnRenamed(\"最低氣溫(℃)\", \"min_temperature\")\n",
    "df = df.withColumnRenamed(\"累計雨量(mm)\", \"rainfall\")\n",
    "df = df.withColumnRenamed(\"累積日照時數\", \"sunshine\")\n",
    "df = df.withColumn('year_', split(col(\"觀測時間\"), \"/\").getItem(0))\n",
    "df = df.withColumn('month_', split(col(\"觀測時間\"), \"/\").getItem(1))\n",
    "df = df.withColumn('date_', split(col(\"觀測時間\"), \"/\").getItem(2))\n",
    "df = df.withColumn('month', concat(df.year_, lpad(df.month_, 2, '0')))\n",
    "df = df.withColumn('date', lpad(df.date_, 2, '0'))\n",
    "df = df.select(['month', 'date', 'avg_temperature', 'max_temperature', 'min_temperature', 'rainfall', 'sunshine'])\n",
    "pandas_df = df.toPandas()\n",
    "pandas_df.to_csv(\"data/train/72G600_WEATHER.csv\", index=False)"
   ]
  },
  {
   "cell_type": "code",
   "execution_count": null,
   "metadata": {},
   "outputs": [],
   "source": [
    "## Covid Data\n",
    "df = spark.read.csv('data/covid_raw.csv', header=True).select(['location', 'date', 'total_cases', 'new_cases', 'total_deaths', 'new_deaths', 'positive_rate'])\n",
    "df = df.filter(df.location == 'Taiwan')\n",
    "df = df.withColumn('year_', split(col(\"date\"), \"-\").getItem(0))\n",
    "df = df.withColumn('month_', split(col(\"date\"), \"-\").getItem(1))\n",
    "df = df.withColumn('date_', split(col(\"date\"), \"-\").getItem(2))\n",
    "df = df.withColumn('month', concat(df.year_, lpad(df.month_, 2, '0')))\n",
    "df = df.withColumn('date', lpad(df.date_, 2, '0'))\n",
    "df = df.select(['month', 'date', 'total_cases', 'new_cases', 'total_deaths', 'new_deaths', 'positive_rate'])\n",
    "pandas_df = df.toPandas()\n",
    "pandas_df.to_csv(\"data/COVID.csv\", index=False)"
   ]
  },
  {
   "cell_type": "code",
   "execution_count": null,
   "metadata": {},
   "outputs": [],
   "source": [
    "## Egg Production Data\n",
    "df = spark.read.csv('data/train/egg_production_raw.csv', header=True).select(['年','月','入中雞雛數','產蛋隻數','均日產蛋箱數','年產蛋數','淘汰隻數','目前換羽隻數'])\n",
    "df = df.withColumn('year_', df.年)\n",
    "df = df.withColumn('month_', df.月)\n",
    "df = df.withColumn('month', concat(df.year_, lpad(df.month_, 2, '0')))\n",
    "df = df.select(['month', '入中雞雛數', '產蛋隻數', '均日產蛋箱數', '年產蛋數', '淘汰隻數', '目前換羽隻數'])\n",
    "pandas_df = df.toPandas()\n",
    "pandas_df.to_csv(\"data/train/EGG_PRODUCTION.csv\", index=False)"
   ]
  },
  {
   "cell_type": "code",
   "execution_count": null,
   "metadata": {},
   "outputs": [],
   "source": [
    "## Weed Price Data\n",
    "df = spark.read.csv('data/train/weed_price_raw.csv', header=True)\n",
    "df = df.withColumnRenamed(\"年\", \"y\")\n",
    "df = df.withColumnRenamed(\"月\", \"m\")\n",
    "df = df.withColumnRenamed(\"玉米粒(進口-產業協會)\", \"corn_price\")\n",
    "df = df.withColumnRenamed(\"米糠(國產-產業協會)\", \"rice_price\")\n",
    "df = df.withColumnRenamed(\"麩皮(白-產業協會)\", \"bran_price\")\n",
    "df = df.withColumnRenamed(\"黃豆粉(進口-產業協會)\", \"soy_price\")\n",
    "df = df.withColumnRenamed(\"魚粉(進口貨)\", \"fish_meal_price\")\n",
    "df = df.withColumnRenamed(\"蛋雞飼料\", \"chicken_feed_price\")\n",
    "df = df.withColumn('year_', expr(\"substring(y, 1, length(y)-1)\"))\n",
    "df = df.withColumn('month_', expr(\"substring(m, 1, length(m)-1)\"))\n",
    "df = df.withColumn('year_', df.year_.cast('integer'))\n",
    "df = df.withColumn('year_', df.year_+1911)\n",
    "df = df.withColumn('month', concat(df.year_, lpad(df.month_, 2, '0')))\n",
    "df = df.select(['month', 'corn_price', 'rice_price', 'bran_price', 'soy_price', 'fish_meal_price', 'chicken_feed_price'])\n",
    "pandas_df = df.toPandas()\n",
    "pandas_df.to_csv(\"data/train/WEED_PRICE.csv\", index=False)"
   ]
  }
 ],
 "metadata": {
  "interpreter": {
   "hash": "81794d4967e6c3204c66dcd87b604927b115b27c00565d3d43f05ba2f3a2cb0d"
  },
  "kernelspec": {
   "display_name": "Python 3.9.6 64-bit",
   "language": "python",
   "name": "python3"
  },
  "language_info": {
   "codemirror_mode": {
    "name": "ipython",
    "version": 3
   },
   "file_extension": ".py",
   "mimetype": "text/x-python",
   "name": "python",
   "nbconvert_exporter": "python",
   "pygments_lexer": "ipython3",
   "version": "3.9.6"
  },
  "orig_nbformat": 4
 },
 "nbformat": 4,
 "nbformat_minor": 2
}
